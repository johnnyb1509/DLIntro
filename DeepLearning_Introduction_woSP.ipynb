{
 "cells": [
  {
   "cell_type": "markdown",
   "metadata": {
    "colab_type": "text",
    "id": "OUetGXA6V2Jy",
    "slideshow": {
     "slide_type": "slide"
    }
   },
   "source": [
    "## <font color='blue'>Deep Learning</font>\n",
    "<br>\n",
    "## Sanjiv R. Das\n",
    "<br>\n",
    "### Professor of Finance and Data Science\n",
    "### Santa Clara University\n",
    "<br>\n",
    "## <font color='green'>London, June 2018</font>\n",
    "<br>\n",
    "\n",
    "REFERENCE BOOK: http://srdas.github.io/DLBook\n",
    "\n",
    "WORKSHOP (June 26, 2 hours)\n",
    "\n",
    "TITLE: Introduction to Deep Learning\n",
    "\n",
    "ABSTRACT: This workshop will cover the essentials of deep learning from a mathematical and programming perspective.\n",
    "- What is deep learning?\n",
    "- Types of deep learning\n",
    "- Mathematics of Deep Learning: universal approximation using neural nets, Backpropagation, and techniques for fitting deep learning nets.\n",
    "- Programming deep learning: tensorflow, mxnet, h2o in R and Python with applications."
   ]
  },
  {
   "cell_type": "code",
   "execution_count": 1,
   "metadata": {
    "slideshow": {
     "slide_type": "slide"
    }
   },
   "outputs": [
    {
     "name": "stdout",
     "output_type": "stream",
     "text": [
      "Populating the interactive namespace from numpy and matplotlib\n"
     ]
    }
   ],
   "source": [
    "%pylab inline\n",
    "import pandas as pd\n",
    "from IPython.external import mathjax"
   ]
  },
  {
   "cell_type": "markdown",
   "metadata": {
    "colab_type": "text",
    "id": "IhiSyaTQV2Jz",
    "slideshow": {
     "slide_type": "slide"
    }
   },
   "source": [
    "![](images/ML.png)\n",
    "\n",
    "https://medium.com/machine-learning-for-humans/why-machine-learning-matters-6164faf1df12\n"
   ]
  },
  {
   "cell_type": "markdown",
   "metadata": {
    "colab_type": "text",
    "id": "xKoMRZyoV2J0",
    "slideshow": {
     "slide_type": "slide"
    }
   },
   "source": [
    "![](images/DL_PatternRecognition.png)"
   ]
  },
  {
   "cell_type": "markdown",
   "metadata": {
    "slideshow": {
     "slide_type": "slide"
    }
   },
   "source": [
    "## Examples of Different Types of Neurons\n",
    "\n",
    "#### Net input \n",
    "\n",
    "$$\n",
    "a_j^{(r)} = \\sum_{i=1}^{n^{(r-1)}} W_{ij} Z_i^{(r-1)} + b_j^{(r)}\n",
    "$$\n",
    "\n"
   ]
  },
  {
   "cell_type": "markdown",
   "metadata": {
    "slideshow": {
     "slide_type": "slide"
    }
   },
   "source": [
    "#### Sigmoid\n",
    "\n",
    "$$\n",
    "Z_j^{(r)} = \\frac{1}{1+\\exp(a_j^{(r)})} \\in (0,1)\n",
    "$$\n",
    "\n"
   ]
  },
  {
   "cell_type": "markdown",
   "metadata": {
    "slideshow": {
     "slide_type": "slide"
    }
   },
   "source": [
    "#### ReLU (restricted linear unit)\n",
    "\n",
    "$$\n",
    "Z_j^{(r)} = \\max[0, a_j^{(r)}] \\in (0,1)\n",
    "$$\n",
    "\n"
   ]
  },
  {
   "cell_type": "markdown",
   "metadata": {
    "slideshow": {
     "slide_type": "slide"
    }
   },
   "source": [
    "#### TanH (hyperbolic tangent)\n",
    "\n",
    "$$\n",
    "Z_j^{(r)} = \\tanh[a_j^{(r)}] \\in (-1,+1)\n",
    "$$"
   ]
  },
  {
   "cell_type": "markdown",
   "metadata": {
    "colab_type": "text",
    "id": "w4xhKH8WV2J1",
    "slideshow": {
     "slide_type": "slide"
    }
   },
   "source": [
    "![](images/NN_diagram.png)"
   ]
  },
  {
   "cell_type": "markdown",
   "metadata": {
    "colab_type": "text",
    "id": "Kfu2CJnNV2J1",
    "slideshow": {
     "slide_type": "slide"
    }
   },
   "source": [
    "![](images/NN_subset.png)"
   ]
  },
  {
   "cell_type": "markdown",
   "metadata": {
    "colab_type": "text",
    "id": "6yVoDq-aV2J2",
    "slideshow": {
     "slide_type": "slide"
    }
   },
   "source": [
    "![](images/Activation_functions.png)"
   ]
  },
  {
   "cell_type": "markdown",
   "metadata": {
    "colab_type": "text",
    "id": "u9s7Ih4aV2J3",
    "slideshow": {
     "slide_type": "slide"
    }
   },
   "source": [
    "![](images/Softmax.png)"
   ]
  },
  {
   "cell_type": "code",
   "execution_count": 2,
   "metadata": {
    "slideshow": {
     "slide_type": "slide"
    }
   },
   "outputs": [
    {
     "name": "stdout",
     "output_type": "stream",
     "text": [
      "[0.034 0.057 0.072 0.18  0.205 0.012 0.276 0.004 0.096 0.063]\n",
      "final tag = 6\n"
     ]
    }
   ],
   "source": [
    "#The Softmax function\n",
    "#Assume 10 output nodes with randomly generated values\n",
    "z = randn(32)  #inputs from last hidden layer of 32 nodes to the output layer\n",
    "w = rand(32*10).reshape((10,32))  #weights for the output layer\n",
    "b = rand(10)   #bias terms at output later\n",
    "a = w.dot(z) + b  #Net input at output layer\n",
    "e = exp(a)\n",
    "softmax_output = e/sum(e)\n",
    "print(softmax_output.round(3))\n",
    "print('final tag =',where(softmax_output==softmax_output.max())[0][0])"
   ]
  },
  {
   "cell_type": "markdown",
   "metadata": {
    "colab_type": "text",
    "id": "8jdWcEmeV2J4",
    "slideshow": {
     "slide_type": "slide"
    }
   },
   "source": [
    "![](images/Loss_function.png)"
   ]
  },
  {
   "cell_type": "markdown",
   "metadata": {
    "slideshow": {
     "slide_type": "slide"
    }
   },
   "source": [
    "## More on Cross Entropy\n",
    "\n",
    "https://rdipietro.github.io/friendly-intro-to-cross-entropy-loss/\n",
    "\n",
    "Notation from the previous slides: \n",
    "\n",
    "- $y_i$: actual probability of the correct class $i$, i.e., $1$ or $0$. \n",
    "- $a_i$: predicted probability of the correct class. \n",
    "- $n$: number of observations in the data. \n",
    "\n"
   ]
  },
  {
   "cell_type": "markdown",
   "metadata": {
    "slideshow": {
     "slide_type": "slide"
    }
   },
   "source": [
    "#### Entropy \n",
    "\n",
    "$$\n",
    "E = - \\frac{1}{n} \\sum_i [y_i \\ln y_i]\n",
    "$$"
   ]
  },
  {
   "cell_type": "code",
   "execution_count": 4,
   "metadata": {
    "slideshow": {
     "slide_type": "slide"
    }
   },
   "outputs": [
    {
     "name": "stdout",
     "output_type": "stream",
     "text": [
      "1.58481870497303\n",
      "1.4854752972273344\n",
      "0.9219280948873623\n"
     ]
    }
   ],
   "source": [
    "y = [0.33, 0.33, 0.34]\n",
    "bits = log2(y)\n",
    "entropy = -sum(y*bits)\n",
    "print(entropy)\n",
    "\n",
    "y = [0.2, 0.3, 0.5]\n",
    "entropy = -sum(y*log2(y))\n",
    "print(entropy)\n",
    "\n",
    "y = [0.1, 0.1, 0.8]\n",
    "entropy = -sum(y*log2(y))\n",
    "print(entropy)\n"
   ]
  },
  {
   "cell_type": "markdown",
   "metadata": {
    "slideshow": {
     "slide_type": "slide"
    }
   },
   "source": [
    "Cross-entropy:\n",
    "\n",
    "$$\n",
    "C = - \\frac{1}{n} \\sum_i [y_i \\ln a_i]\n",
    "$$\n",
    "\n",
    "where $a_i = {\\hat y_i}$.\n",
    "\n",
    "Note that $C > E$ always. "
   ]
  },
  {
   "cell_type": "code",
   "execution_count": 5,
   "metadata": {
    "slideshow": {
     "slide_type": "slide"
    }
   },
   "outputs": [
    {
     "name": "stdout",
     "output_type": "stream",
     "text": [
      "0.3219280948873623\n",
      "1.7369655941662063\n"
     ]
    }
   ],
   "source": [
    "#Correct prediction\n",
    "y = [0, 0, 1]\n",
    "yhat = [0.1, 0.1, 0.8]\n",
    "crossentropy = -sum(y*log2(yhat))\n",
    "print(crossentropy)\n",
    "\n",
    "#Wrong prediction\n",
    "yhat = [0.1, 0.6, 0.3]\n",
    "crossentropy = -sum(y*log2(yhat))\n",
    "print(crossentropy)"
   ]
  },
  {
   "cell_type": "markdown",
   "metadata": {
    "slideshow": {
     "slide_type": "slide"
    }
   },
   "source": [
    "### Kullback-Leibler Divergence\n",
    "\n",
    "$$\n",
    "KL = \\sum_i y_i \\cdot \\log \\left(\\frac{y_i}{\\hat{y_i}} \\right)\n",
    "$$\n",
    "\n",
    "Measures the extra bits required if the wrong selection is made. "
   ]
  },
  {
   "cell_type": "code",
   "execution_count": 6,
   "metadata": {
    "slideshow": {
     "slide_type": "slide"
    }
   },
   "outputs": [
    {
     "name": "stdout",
     "output_type": "stream",
     "text": [
      "-0.32192809488736235\n",
      "-1.7369655941662063\n"
     ]
    }
   ],
   "source": [
    "#Correct prediction\n",
    "y = [0, 0, 1.0]\n",
    "yhat = [0.1, 0.1, 0.8]\n",
    "KL = -sum(y[2]*log2(y[2]/yhat[2]))\n",
    "print(KL)\n",
    "\n",
    "#Wrong prediction\n",
    "yhat = [0.1, 0.6, 0.3]\n",
    "KL = -sum(y[2]*log2(y[2]/yhat[2]))\n",
    "print(KL)"
   ]
  },
  {
   "cell_type": "markdown",
   "metadata": {
    "colab_type": "text",
    "id": "rogXbEBeV2J5",
    "slideshow": {
     "slide_type": "slide"
    }
   },
   "source": [
    "![](images/Gradient_descent.png)"
   ]
  },
  {
   "cell_type": "markdown",
   "metadata": {
    "slideshow": {
     "slide_type": "slide"
    }
   },
   "source": [
    "## Batch Stochastic Gradient\n",
    "\n",
    "![](images/batch_stochastic_gradient.png)"
   ]
  },
  {
   "cell_type": "markdown",
   "metadata": {
    "slideshow": {
     "slide_type": "slide"
    }
   },
   "source": [
    "1.\tInitialize all the weight and bias parameters $(w_{ij}^{(r)},b_i^{(r)})$  (this is a critical step).\n",
    "\n",
    "2.\tFor $q = 0,...,{M\\over B}-1$ repeat the following steps (2a) - (2f):\n",
    "\n",
    "a. For the training inputs $X_i(m), qB\\le m\\le (q+1)B$, compute the model predictions $y(m)$ given by\n",
    "\n",
    "$$\n",
    "a_i^{(r)}(m) = \\sum_{j=1}^{P^{r-1}} w_{ij}^{(r)}z_j^{(r-1)}(m)+b_i^{(r)} \\quad \\mbox{and} \\quad z_i^{(r)}(m) = f(a_i^{(r)}(m)), \\quad 2 \\leq r \\leq R, 1 \\leq i \\leq P^r  \n",
    "$$\n",
    "\n",
    "and for $r=1$,\n",
    "\n",
    "$$\n",
    "a_i^{(1)}(m) = \\sum_{j=1}^{P^1} w_{ij}^{(1)}x_j(m)+b_i^{(1)} \\quad \\mbox{and} \\quad z_i^{(1)}(m) = f(a_i^{(1)}(m)), \\quad  1 \\leq i \\leq N    \n",
    "$$\n",
    "\n",
    "The logits and classification probabilities are computed using\n",
    "\n",
    "$$\n",
    "a_i^{(R+1)}(m) = \\sum_{j=1}^K w_{ij}^{(R+1)}z_j^{(R)}(m)+b_i^{(R+1)} \\quad \\mbox{and} \\quad y_i(m) = \\frac{\\exp(a_i^{(R+1)}(m))}{\\sum_{k=1}^K \\exp(a_k^{(R+1)}(m))}, \\quad  1 \\leq i \\leq K   \n",
    "$$\n",
    "\n",
    "This step constitutes the _forward pass_ of the algorithm."
   ]
  },
  {
   "cell_type": "markdown",
   "metadata": {
    "slideshow": {
     "slide_type": "slide"
    }
   },
   "source": [
    "b. Evaluate the gradients $\\delta_k^{(R+1)}(m)$ for the logit layer nodes using\n",
    "\n",
    "$$\n",
    "\\delta_k^{(R+1)}(m) = y_k(m) - t_k(m),\\ \\ 1\\le k\\le K\n",
    "$$\n",
    "\n",
    "This step and the following one constitute the start of the backward pass of the algorithm, in which we compute the gradients $\\delta_k^{(r)}, 1 \\leq k \\leq K, 1\\le r\\le R$ for all the hidden nodes.\n",
    "\n",
    "c. Back-propagate the $\\delta$s using the following equation to obtain the $\\delta_j^{(r)}(m), 1 \\leq r \\leq R, 1 \\leq j \\leq P^r$  for each hidden node in the network.\n",
    "\n",
    "$$\n",
    "\\delta_j^{(r)}(m) = f'(a_j^{(r)}(m)) \\sum_k w_{kj}^{(r+1)} \\delta_k^{(r+1)}(m), \\quad 1 \\leq r \\leq R\n",
    "$$\n"
   ]
  },
  {
   "cell_type": "markdown",
   "metadata": {
    "slideshow": {
     "slide_type": "slide"
    }
   },
   "source": [
    "d. Compute the gradients of the Cross Entropy Function $\\mathcal L(m)$ for the $m$-th training vector $(X{(m)}, T{(m)})$ with respect to all the weight and bias parameters using the following equation.\n",
    "\n",
    "$$\n",
    "\\frac{\\partial\\mathcal L(m)}{\\partial w_{ij}^{(r+1)}} = \\delta_i^{(r+1)}(m) z_j^{(r)}(m) \\quad \\mbox{and} \\quad \\frac{\\partial \\mathcal L(m)}{\\partial b_i^{(r+1)}} = \\delta_i^{(r+1)}(m), \\quad 0 \\leq r \\leq R\n",
    "$$\n",
    "\n",
    "e. Change the model weights according to the formula\n",
    "\n",
    "$$\n",
    "w_{ij}^{(r)} \\leftarrow w_{ij}^{(r)} - \\frac{\\eta}{B}\\sum_{m=qB}^{(q+1)B} \\frac{\\partial\\mathcal L(m)}{\\partial w_{ij}^{(r)}},  \n",
    "$$\n",
    "\n",
    "$$\n",
    "b_i^{(r)} \\leftarrow b_i^{(r)} - \\frac{\\eta}{B}\\sum_{m=qB}^{(q+1)B} \\frac{\\partial{\\mathcal L}(m)}{\\partial b_i^{(r)}},\n",
    "$$\n",
    "\n",
    "f. Increment $q\\leftarrow (q+1)\\mod B$ and go back to step $(a)$."
   ]
  },
  {
   "cell_type": "markdown",
   "metadata": {
    "slideshow": {
     "slide_type": "slide"
    }
   },
   "source": [
    "Compute the Loss Function $L$ over the Validation Dataset given by\n",
    "\n",
    "$$\n",
    "L = -{1\\over V}\\sum_{m=1}^V\\sum_{k=1}^K t_k{(m)} \\log y_k{(m)}\n",
    "$$\n",
    "\n",
    "If $L$ has dropped below some threshold, then stop. Otherwise go back to Step 2."
   ]
  },
  {
   "cell_type": "code",
   "execution_count": null,
   "metadata": {},
   "outputs": [],
   "source": []
  },
  {
   "cell_type": "markdown",
   "metadata": {
    "slideshow": {
     "slide_type": "slide"
    }
   },
   "source": [
    "## Gradient Descent Example\n",
    "\n",
    "![](images/Gradient_Descent_Scheme.png)"
   ]
  },
  {
   "cell_type": "code",
   "execution_count": 30,
   "metadata": {
    "slideshow": {
     "slide_type": "slide"
    }
   },
   "outputs": [
    {
     "data": {
      "image/png": "[encoded data removed]",
      "text/plain": [
       "<matplotlib.figure.Figure at 0x10fbd2550>"
      ]
     },
     "metadata": {},
     "output_type": "display_data"
    }
   ],
   "source": [
    "def f(x):\n",
    "    return 3*x**2 -5*x + 10\n",
    "\n",
    "x = linspace(-4,4,100)\n",
    "plot(x,f(x))\n",
    "grid()"
   ]
  },
  {
   "cell_type": "code",
   "execution_count": 35,
   "metadata": {},
   "outputs": [
    {
     "name": "stdout",
     "output_type": "stream",
     "text": [
      "-1.8501500000001698 29.519915067502733\n",
      "-1.0452550000002532 18.503949045077853\n",
      "-0.4818285000003115 13.105618610239208\n",
      "-0.08742995000019249 10.460081738472072\n",
      "0.18864903499989083 9.163520200219716\n",
      "0.3819043244999847 8.528031116715445\n",
      "0.5171830271499616 8.216519714966186\n",
      "0.6118781190049631 8.06379390252634\n",
      "0.6781646833034642 7.988898596522943\n",
      "0.7245652783124417 7.95215813604575\n",
      "0.7570456948186948 7.934126078037087\n",
      "0.7797819863730542 7.925269906950447\n",
      "0.7956973904611502 7.920916059254301\n",
      "0.8068381733227685 7.918772647178622\n",
      "0.8146367213259147 7.917715356568335\n",
      "0.8200957049281836 7.917192371084045\n",
      "0.8239169934497053 7.916932669037079\n",
      "0.8265918954147882 7.9168030076222955\n",
      "0.8284643267903373 7.916737788340814\n",
      "0.8297750287532573 7.916704651261121\n"
     ]
    }
   ],
   "source": [
    "dx = 0.001\n",
    "eta = 0.05  #learning rate\n",
    "x = -3\n",
    "for j in range(20):\n",
    "    df_dx = (f(x+dx)-f(x))/dx\n",
    "    x = x - eta*df_dx\n",
    "    print(x,f(x))"
   ]
  },
  {
   "cell_type": "markdown",
   "metadata": {
    "slideshow": {
     "slide_type": "slide"
    }
   },
   "source": [
    "## Vanishing Gradients\n",
    "\n",
    "- In large problems, gradients simply vanish too soon before training has reached an acceptable level of accuracy. \n",
    "\n",
    "- There are several issues with gradient descent that need handling, and to solve this, there are several fixes that may be applied. \n",
    "\n",
    "- Learning rate $\\eta$ may be too large or too small.\n",
    "\n",
    "![](images/LearningRate_Matters.png)"
   ]
  },
  {
   "cell_type": "markdown",
   "metadata": {
    "slideshow": {
     "slide_type": "slide"
    }
   },
   "source": [
    "## Gradients in Multiple Dimensions\n",
    "\n",
    "![](images/GD_MultipleDimensions.png)"
   ]
  },
  {
   "cell_type": "markdown",
   "metadata": {
    "slideshow": {
     "slide_type": "slide"
    }
   },
   "source": [
    "## Saddle Points\n",
    "\n",
    "<img src=\"images/GD_saddle.png\" height=\"100\" width=\"300\">"
   ]
  },
  {
   "cell_type": "markdown",
   "metadata": {
    "slideshow": {
     "slide_type": "slide"
    }
   },
   "source": [
    "## Effect of the Learning Rate\n",
    "\n",
    "The idea is to start with a high learning rate and then adaptively reduce it as we get closer to the minimum of the loss function. \n",
    "\n",
    "![](images/LearningRateAnnealing.png)\n"
   ]
  },
  {
   "cell_type": "markdown",
   "metadata": {
    "slideshow": {
     "slide_type": "slide"
    }
   },
   "source": [
    "## Annealing\n",
    "\n",
    "Reduce the learning rate as a step function when the reduction in the loss function begins to plateau.\n",
    "\n",
    "![](images/LearningRateAnnealing2.png)"
   ]
  },
  {
   "cell_type": "markdown",
   "metadata": {
    "slideshow": {
     "slide_type": "slide"
    }
   },
   "source": [
    "## Learning Rate Algorithms\n",
    "\n",
    "- Improve the speed of convergence (for example the Momentum, Nesterov Momentum, and Adam algorithms).\n",
    "\n",
    "- Adapt the effective Learning Rate as the training progresses (for example the ADAGRAD, RMSPROP and Adam algorithms).\n"
   ]
  },
  {
   "cell_type": "markdown",
   "metadata": {
    "slideshow": {
     "slide_type": "slide"
    }
   },
   "source": [
    "## Momentum\n",
    "\n",
    "Fixes the problem where the gradient is multidimensional and has a fast gradient on some axes and a slow one on the others. \n",
    "\n",
    "At the end of the $n^{th}$ iteration of the Backprop algorithm, define a sequence $v(n)$ by\n",
    "\n",
    "$$\n",
    "v(n) = \\rho\\; v(n-1) - \\eta \\; g(n), \\quad \\quad v(0)=0\n",
    "$$\n",
    "\n",
    "where $\\rho$ is new hyper-parameter called the \"momentum\" parameter, and $g(n)$ is the gradient evaluated at parameters value $w(n)$, defined by\n",
    "\n",
    "$$\n",
    "g(n) = \\frac{\\partial {\\mathcal L(n)}}{\\partial w}\n",
    "$$\n",
    "\n",
    "for Stochastic Gradient Descent and \n",
    "\n",
    "$$\n",
    "g(n) = {1\\over B}\\sum_{m=nB}^{(n+1)B}\\frac{\\partial {\\mathcal L(m)}}{\\partial w}\n",
    "$$\n",
    "\n",
    "for Batch Stochastic Gradient Descent (note that in this case $n$ is an index into the batch number). \n",
    "\n"
   ]
  },
  {
   "cell_type": "markdown",
   "metadata": {
    "slideshow": {
     "slide_type": "slide"
    }
   },
   "source": [
    "The change in parameter values on each iteration is now defined as\n",
    "\n",
    "\\begin{equation}\n",
    "w(n+1) = w(n) + v(n)  \n",
    "\\end{equation}\n",
    "\n",
    "It can be shown from these equations that $v(n)$ can be written as\n",
    "\n",
    "\\begin{equation}\n",
    "v(n) = - \\eta\\sum_{i=0}^{n-1} \\rho^{n-i} g(i)   \n",
    "\\end{equation}\n",
    "\n",
    "so that\n",
    "\n",
    "\\begin{equation}\n",
    "w(n+1) = w(n) - \\eta\\sum_{i=0}^{n-1} \\rho^{n-i} g(i)   \n",
    "\\end{equation}\n",
    "\n"
   ]
  },
  {
   "cell_type": "markdown",
   "metadata": {
    "slideshow": {
     "slide_type": "slide"
    }
   },
   "source": [
    "### Behavior of Momentum Parameter\n",
    "\n",
    "When the momentum parameter $\\rho = 0$, then this equation reduces to the usual Stochastic Gradient Descent iteration. On the other hand, when $\\rho > 0$, then we get some interesting behaviors:\n",
    "\n",
    "- If the gradients $g(i)$ are such that they change sign frequently (as in the steep side of the loss surface), then the stepsize $\\sum_{i=0}^n \\rho^{n-i}g(i)$ will be small. Thus the change in these parameters with the number of iterations will limited.\n",
    "\n",
    "- If the gradients $g(i)$ are such that they maintain their sign (as in the shallow portion of the loss surface), then the stepsize $\\sum_{i=0}^n \\rho^{n-i}g(i)$ will be large. This means that if the gradients maintain their sign then the corresponding parameters will take bigger and bigger steps as the algorithm progresses, even though the individual gradients may be small."
   ]
  },
  {
   "cell_type": "markdown",
   "metadata": {
    "slideshow": {
     "slide_type": "slide"
    }
   },
   "source": [
    "## Properties of the Momentum algorithm\n",
    "\n",
    "- The Momentum algorithm thus accelerates parameter convergence for parameters whose gradients consistently point in the same direction, and slows parameter change for parameters whose gradient changes sign frequently, thus resulting in faster convergence.\n",
    "- The variable $v(n)$ is analogous to velocity in a dynamical system, while the parameter $1-\\rho$ plays the role of the co-efficient of friction. \n",
    "- The value of $\\rho$ determines the degree of momentum, with the momentum becoming stronger as $\\rho$ approaches $1$. \n"
   ]
  },
  {
   "cell_type": "markdown",
   "metadata": {
    "slideshow": {
     "slide_type": "slide"
    }
   },
   "source": [
    "Note that\n",
    "$$\n",
    "\\sum_{i=0}^{n} \\rho^{n-i}g(i) \\le {g_{max}\\over {1-\\rho}\n",
    "$$\n",
    "$\\rho$ is usually set to the neighborhood of $0.9$ and from the above equation it follows that\n",
    "$\\sum_{i=0}^n \\rho^{n-i}g(i)\\approx 10g$ assuming all the $g(i)$ are approximately equal to $g$.  Hence the effective gradient is ten times the value of the actual gradient. This results in an \"overshoot\" where the value of the parameter shoots past the minimum point to the other side of the bowl, and then reverses itself. This is a desirable behavior since it prevents the algorithm from getting stuck at a saddle point or a local minima, since the momentum carries it out from these areas."
   ]
  },
  {
   "cell_type": "markdown",
   "metadata": {
    "slideshow": {
     "slide_type": "slide"
    }
   },
   "source": [
    "## Nesterov Momentum\n",
    "\n",
    "1.  Recall that the Momentum parameter update equations can be written as:\n",
    "$$\n",
    "v(n) = \\rho\\; v(n-1) - \\eta \\; g(w(n))\n",
    "$$\n",
    "$$\n",
    "w(n+1) = w(n) + v(n) \n",
    "$$\n",
    "2. These equations can be improved by evaluation of the gradient at parameter value $w(n+1)$ instead. \n",
    "3. Circular? in order to compute $w(n+1)$ we first need to compute $g(w(n))$. \n",
    "$$\n",
    "w(n+1)\\approx w(n) + \\rho v(n-1) \n",
    "$$\n",
    "4. Gives the velocity update equation for Nesterov Momentum\n",
    "$$\n",
    "v(n) = \\rho\\; v(n-1) - \\eta \\; g(w(n)+\\rho v(n-1))\n",
    "$$\n",
    "where $g(w(n)+\\rho v(n-1))$ denotes the gradient computed at parameter values $w(n) + \\rho v(n-1)$. \n",
    "5. Gradient Descent process speeds up considerably when compared to the plain Momentum method."
   ]
  },
  {
   "cell_type": "markdown",
   "metadata": {
    "slideshow": {
     "slide_type": "slide"
    }
   },
   "source": [
    "## The ADAGRAD Algorithm\n",
    "\n",
    "1. Parameter update rule:\n",
    "\\begin{equation}\n",
    "w(n+1) = w(n) - \\frac{\\eta}{\\sqrt{\\sum_{i=1}^n g(n)^2+\\epsilon}}\\; g(n) \n",
    "\\end{equation}\n",
    "\n",
    "2. Constant $\\epsilon$ has been added to better condition the denominator and is usually set to a small number such $10^{-7}$.\n",
    "\n",
    "3. Each parameter gets its own adaptive Learning Rate, such that large gradients have smaller learning rates and small gradients have larger learning rates ($\\eta$ is usually defaulted to $0.01$). As a result the progress along each dimension evens out over time, which helps the training process. \n",
    "\n",
    "4. The change in rates happens automatically as part of the parameter update equation.\n",
    "\n",
    "5. Downside: accumulation of gradients in the denominator leads to the continuous decrease in Learning Rates which can lead to a halt of training in large networks that require a greater number of iterations. "
   ]
  },
  {
   "cell_type": "markdown",
   "metadata": {
    "slideshow": {
     "slide_type": "slide"
    }
   },
   "source": [
    "## The RMSPROP Algorithm\n",
    "\n",
    "1. Accumulates the sum of gradients using a sliding window:\n",
    "$$\n",
    "E[g^2]_n = \\rho E[g^2]_{n-1} + (1-\\rho) g(n)^2\n",
    "$$\n",
    "where $\\rho$ is a decay constant (usually set to $0.9$). This operation (called a Low Pass Filter) has a windowing effect, since it forgets gradients that are far back in time. \n",
    "2. The quantity $RMS[g]_n$ defined by\n",
    "$$\n",
    "RMS[g]_n = \\sqrt{E[g^2]_n + \\epsilon}\n",
    "$$\n",
    "\\begin{equation}\n",
    "w(n+1) = w(n) - \\frac{\\eta}{RMS[g]_n}\\; g(n)  \n",
    "\\end{equation}\n",
    "3. Note that\n",
    "$$\n",
    "E[g^2]_n = (1-\\rho)\\sum_{i=0}^n \\rho^{n-i} g(i)^2 \\le \\frac{g_{max}}{1-\\rho}\n",
    "$$\n",
    "which shows that the parameter $\\rho$ prevents the sum from blowing up, and a large value of $\\rho$ is equivalent to using a larger window of previous gradients in computing the sum. "
   ]
  },
  {
   "cell_type": "markdown",
   "metadata": {
    "slideshow": {
     "slide_type": "slide"
    }
   },
   "source": [
    "## The ADAM Algorithm\n",
    "\n",
    "1. The Adaptive Moment Estimation (Adam) algorithm combines the best of algorithms such as Momentum that speed up the training process, with algorithms such as RMSPROP that adaptively vary the effective Learning Rate.\n",
    "\n",
    "$$\n",
    "\\Lambda(n) = \\beta\\Lambda(n-1) +(1-\\beta)g(n),\\ \\ \\ {\\hat\\Gamma}(n) = \\frac{\\Gamma(n)}{1-\\beta^n}\n",
    "$$\n",
    "\n",
    "$$\n",
    "\\Delta(n) = \\alpha\\Delta(n-1) + (1-\\alpha) g(n)^2,\\ \\ \\ {\\hat\\Delta}(n) = \\frac{\\Delta(n)}{1-\\alpha^n}\n",
    "$$\n",
    "\n",
    "$$\n",
    "w(n+1) = w(n) - \\eta\\frac{\\hat\\Lambda(n)}{\\sqrt{\\hat\\Delta(n) + \\epsilon}}\n",
    "$$\n",
    "\n",
    "2. $\\Delta(n)$ is identical to that of $E[g^2]_n$ in the RMSPROP, and it serves an identical purpose, i.e., rates for parameters with larger gradients are equalized with those for parameters with smaller gradients.\n",
    "\n",
    "3. The sequence $\\Lambda(n)$ is used to provide \"Momentum\" to the updates, and works in a fashion similar to the velocity sequence $v(n)$ in the Momentum algorithm.\n",
    "\n",
    "$$\n",
    "\\Lambda(n) = (1-\\rho)\\sum_{i=0}^n \\rho^{n-i} g(i) \\le \\frac{g_{max}}{1-\\rho}\n",
    "$$\n",
    "\n",
    "4. The parameters $\\alpha$ and $\\beta$ are usually defaulted to $10^{-8}$ and $0.999$ respectively."
   ]
  },
  {
   "cell_type": "markdown",
   "metadata": {
    "colab_type": "text",
    "id": "X2yeLvACV2J5",
    "slideshow": {
     "slide_type": "slide"
    }
   },
   "source": [
    "![](images/Chain_rule.png)"
   ]
  },
  {
   "cell_type": "markdown",
   "metadata": {
    "colab_type": "text",
    "id": "Df1hKlsFV2J7",
    "slideshow": {
     "slide_type": "slide"
    }
   },
   "source": [
    "![](images/Delta_values.png)"
   ]
  },
  {
   "cell_type": "markdown",
   "metadata": {
    "colab_type": "text",
    "id": "yYel-DBjV2J7",
    "slideshow": {
     "slide_type": "slide"
    }
   },
   "source": [
    "![](images/Output_layer.png)"
   ]
  },
  {
   "cell_type": "markdown",
   "metadata": {
    "colab_type": "text",
    "id": "DFaIaejRV2J8",
    "slideshow": {
     "slide_type": "slide"
    }
   },
   "source": [
    "![](images/Feedforward_Backprop.png)"
   ]
  },
  {
   "cell_type": "markdown",
   "metadata": {
    "colab_type": "text",
    "id": "taA3tvKsV2J9",
    "slideshow": {
     "slide_type": "slide"
    }
   },
   "source": [
    "![](images/Recap.png)"
   ]
  },
  {
   "cell_type": "markdown",
   "metadata": {
    "colab_type": "text",
    "id": "lS7OMpxhV2J-",
    "slideshow": {
     "slide_type": "slide"
    }
   },
   "source": [
    "![](images/Backprop_one_slide.png)"
   ]
  },
  {
   "cell_type": "markdown",
   "metadata": {
    "slideshow": {
     "slide_type": "slide"
    }
   },
   "source": [
    "## Back to Activation Functions (Vanishing Gradients)\n",
    "\n",
    "![](images/sigmoid_activation.png)"
   ]
  },
  {
   "cell_type": "markdown",
   "metadata": {
    "slideshow": {
     "slide_type": "slide"
    }
   },
   "source": [
    "## tanh Activation\n",
    "\n",
    "![](images/tanh_activation.png)\n",
    "\n",
    "1. Unless the input is in the neghborhood of zero, the function enters its saturated regime. \n",
    "\n",
    "2. It is superior to the sigmoid in one respect, i.e., its output is zero centered. This  speeds up the training process. \n",
    "\n",
    "3. The $\\tanh$ function is rarely used in modern DLNs, the exception being a type DLN called LSTM."
   ]
  },
  {
   "cell_type": "markdown",
   "metadata": {
    "slideshow": {
     "slide_type": "slide"
    }
   },
   "source": [
    "## ReLU Activation\n",
    "\n",
    "![](images/relu_activation.png)\n",
    "\n",
    "$$\n",
    "z = \\max(0,a)\n",
    "$$\n",
    "\n",
    "1. No saturation problem. \n",
    "\n",
    "2. Gradients $\\frac{\\partial L}{\\partial w}$ propagate undiminished through the network, provided all the nodes are active."
   ]
  },
  {
   "cell_type": "markdown",
   "metadata": {
    "slideshow": {
     "slide_type": "slide"
    }
   },
   "source": [
    "## Dead ReLU Problem\n",
    "\n",
    "![](images/dead_relu.png)\n",
    "\n",
    "1. The dotted line in this figure shows a case in which the weight parameters $w_i$ are such that the hyperplane $\\sum w_i z_i$ does not intersect the \"data cloud\" of possible input activations. This implies that there does not exist any possible input values that can lead to $\\sum w_i z_i > 0$. Hence the neuron's output activation will always be zero, and it will kill all gradients backpropagating down from higher layers.\n",
    "\n",
    "2. Vary initialization to correct this. "
   ]
  },
  {
   "cell_type": "markdown",
   "metadata": {
    "slideshow": {
     "slide_type": "slide"
    }
   },
   "source": [
    "## Leaky ReLU\n",
    "\n",
    "![](images/leaky_relu.png)\n",
    "\n",
    "$$\n",
    "z = \\max(ca,a),\\ \\ 0\\le c<1\n",
    "$$\n",
    "\n",
    "- Fixes the dead ReLU problem. "
   ]
  },
  {
   "cell_type": "markdown",
   "metadata": {
    "slideshow": {
     "slide_type": "slide"
    }
   },
   "source": [
    "## PreLU \n",
    "\n",
    "![](images/prelu.png)\n",
    "\n",
    "$$\n",
    "z_i = \\max(\\beta_i a_i,a_i), \\quad 1 \\le i \\le S\n",
    "$$\n",
    "\n",
    "1. Instead of deciding on the value of $c$ through experimentation, why not determine it using Backpropagation as well. This is the idea behind the Pre-ReLU or PReLU function.\n",
    "\n"
   ]
  },
  {
   "cell_type": "markdown",
   "metadata": {
    "slideshow": {
     "slide_type": "slide"
    }
   },
   "source": [
    "Note that each neuron $i$ now has its own parameter $\\beta_i, 1\\le i\\le S$, where $S$ is the number of nodes in the network. These parameters are iteratively estimated using Backprop.\n",
    "\n",
    "$$\n",
    "\\frac{\\partial\\mathcal L}{\\partial\\beta_i} = \\frac{\\partial\\mathcal L}{\\partial z_i}\\frac{\\partial z_i}{\\partial\\beta_i},\\ \\ 1\\le i\\le S\n",
    "$$\n",
    "\n",
    "Substituting the value for $\\frac{\\partial z_i}{\\partial\\beta_i}$ we obtain\n",
    "$$\n",
    "\\frac{\\partial\\mathcal L}{\\partial\\beta_i} = a_i\\frac{\\partial\\mathcal L}{\\partial z_i}\\ \\ if\\ a_i \\le 0\\ \\ \\mbox{and} \\ \\ 0 \\ \\ \\mbox{otherwise}\n",
    "$$\n",
    "\n",
    "which is then used to update $\\beta_i$ using $\\beta_i\\rightarrow\\beta_i - \\eta\\frac{\\partial\\mathcal L}{\\partial\\beta_i}$.\n",
    "\n",
    "Once training is complete, the PreLU based DLN network ends up with a different value of $\\beta_i$ at each neuron, which increases the flexibility of the network at the cost of an increase in the number of parameters."
   ]
  },
  {
   "cell_type": "markdown",
   "metadata": {
    "slideshow": {
     "slide_type": "slide"
    }
   },
   "source": [
    "## Maxout\n",
    "\n",
    "![](images/maxout.png)\n",
    "\n",
    "Generalizes Leaky ReLU. \n",
    "\n",
    "$$\n",
    "z'_i = \\max(c\\big[\\sum_j w_{ij}z_j +b_i\\big],\\sum_j w_{ij}z_j +b_i),\n",
    "$$\n",
    "\n",
    "We may allow the two hyperplanes to be independent with their own set of parameters, as shown in the Figure above."
   ]
  },
  {
   "cell_type": "markdown",
   "metadata": {
    "slideshow": {
     "slide_type": "slide"
    }
   },
   "source": [
    "## Initializing Weights\n",
    "\n",
    "In practice, the DLN weight parameters are initialized with random values drawn from Gaussian or Uniform distributions and the following rules are used: \n",
    "\n",
    "- Guassian Initialization: If the weight is between layers with $n_{in}$ input neurons and $n_{out}$ output neurons, then they are initialized using a Gaussian random distribution with mean zero and standard deviation $\\sqrt{2\\over n_{in}+n_{out}}$. \n",
    "\n",
    "- Uniform Initialization: In the same configuration as above, the weights should be initialized using an Uniform distribution between $-r$ and $r$, where $r = \\sqrt{6\\over n_{in}+n_{out}}$."
   ]
  },
  {
   "cell_type": "markdown",
   "metadata": {
    "slideshow": {
     "slide_type": "slide"
    }
   },
   "source": [
    "When using the ReLU or its variants, these rules have to be modified slightly:\n",
    "\n",
    "- Guassian Initialization: If the weight is between layers with $n_{in}$ input neurons and $n_{out}$ output neurons, then they are initialized using a Gaussian random distribution with mean zero and standard deviation $\\sqrt{4\\over n_{in}+n_{out}}$. \n",
    "\n",
    "- Uniform Initialization: In the same configuration as above, the weights should be initialized using an Uniform distribution between $-r$ and $r$, where $r = \\sqrt{12\\over n_{in}+n_{out}}$.\n",
    "\n",
    "The reasoning behind scaling down the initialization values as the number of incident weights increases is to prevent saturation of the node activations during the forward pass of the Backprop algorithm, as well as large values of the gradients during backward pass. "
   ]
  },
  {
   "cell_type": "markdown",
   "metadata": {
    "slideshow": {
     "slide_type": "slide"
    }
   },
   "source": [
    "## Data Preprocessing\n",
    "\n",
    "![](images/data_preprocessing.png)\n",
    "\n",
    "**Centering**: This is also sometimes called Mean Subtraction, and is the most common form of preprocessing. Given an input dataset consisting of $M$ vectors $X(m) = (x_1(m),...,x_N(m)), m = 1,...,M$, it consists of subtracting the mean across each individual input component $x_i, 1\\leq i\\leq N$ such that\n",
    "$$\n",
    "x_i(m) \\leftarrow x_i(m) - \\frac{\\sum_{s=1}^{M}x_i(s)}{M},\\ \\ 1\\leq i\\leq N, 1\\le m\\le M\n",
    "$$"
   ]
  },
  {
   "cell_type": "markdown",
   "metadata": {
    "slideshow": {
     "slide_type": "slide"
    }
   },
   "source": [
    "**Scaling**: After the data has been centered, it can be scaled in one of two ways:\n",
    "\n",
    "+ By dividing by the standard deviation, once again along each dimension, so that the overall transform is\n",
    "        \n",
    "$$\n",
    "x_i(m) \\leftarrow \\frac{x_i(m) - - \\frac{\\sum_{s=1}^{M}x_i(s)}{M}}{\\sigma_i},\\ \\ 1\\leq i\\leq N, 1\\le m\\le M\n",
    "$$\n",
    "\n",
    "+ By Normalizing each dimension so that the min and max along each axis are -1 and +1 repectively.\n",
    "   \n",
    "- In general Scaling helps optimization because it balances out the rate at which the weights connected to the input nodes learn."
   ]
  },
  {
   "cell_type": "markdown",
   "metadata": {
    "slideshow": {
     "slide_type": "slide"
    }
   },
   "source": [
    "## Zero Centering Helps\n",
    "\n",
    "![](images/zero_centering_helps.png)\n",
    "\n"
   ]
  },
  {
   "cell_type": "markdown",
   "metadata": {
    "slideshow": {
     "slide_type": "slide"
    }
   },
   "source": [
    "Recall that for a K-ary Linear Classifier, the parameter update equation is given by:\n",
    "\n",
    "$$\n",
    "w_{kj} \\leftarrow w_{kj} - \\eta x_j(y_k-t_k),\\ \\ 1\\le k\\le K,\\ \\ 1\\le j\\le N\n",
    "$$\n",
    "\n",
    "If the training sample is such that $t_q = 1$ and $t_k = 0, j\\ne q$, then the update becomes:\n",
    "\n",
    "$$\n",
    "w_{qj} \\leftarrow w_{qj} - \\eta x_j(y_q-1)\n",
    "$$\n",
    "\n",
    "and\n",
    "\n",
    "$$ \n",
    "w_{kj} \\leftarrow w_{kj} - \\eta x_j(y_k),\\ \\ k\\ne q\n",
    "$$"
   ]
  },
  {
   "cell_type": "markdown",
   "metadata": {
    "slideshow": {
     "slide_type": "slide"
    }
   },
   "source": [
    "Lets assume that the input data is not centered so that $x_j\\ge 0, j=1,...,N$. Since $0\\le y_k\\le 1$ it follows that \n",
    "\n",
    "$$\n",
    "\\Delta w_{kj} = -\\eta x_jy_k <0, k\\ne q\n",
    "$$ \n",
    "\n",
    "and \n",
    "\n",
    "$$\n",
    "\\Delta w_{qj} = -\\eta x_j(y_q - 1) > 0\n",
    "$$ \n",
    "\n",
    "i.e. the update results in all the weights moving in the same direction, except for one. This is shown graphically in the Figure above, in which the system is trying move in the direction of the blue arrow which is the quickest path to the minimum. However if the input data is not centered, then it is forced to move in a zig-zag fashion as shown in the red-curve.The zig-zag motion is caused due to the fact that all the parameters move in the same direction at each step due to the lact of zero-centering in the input data."
   ]
  },
  {
   "cell_type": "markdown",
   "metadata": {
    "slideshow": {
     "slide_type": "slide"
    }
   },
   "source": [
    "## Batch Normalization\n",
    "\n",
    "Normalization applied to the hidden layers. \n",
    "\n",
    "![](images/batch_normalization.png)\n",
    "\n",
    "* It enables higher learning rates: In a non-normalized network, a large learning rate can lead to oscillations and cause the loss function increase rather than decrease. \n",
    "\n",
    "* It enables better Gradient Propagation through the network, thus enabling DLNs with more hidden layers.\n",
    "\n",
    "* It helps to reduce strong dependencies on the parameter initialization values.\n",
    "\n",
    "* It helps to regularize the model."
   ]
  },
  {
   "cell_type": "markdown",
   "metadata": {
    "colab": {
     "autoexec": {
      "startup": false,
      "wait_interval": 0
     }
    },
    "colab_type": "code",
    "collapsed": true,
    "id": "szakpJ4cV2J_",
    "slideshow": {
     "slide_type": "slide"
    }
   },
   "source": [
    "## Under and Over-fitting\n",
    "\n",
    "![](images/underoverfitting.png)\n"
   ]
  },
  {
   "cell_type": "markdown",
   "metadata": {
    "colab": {
     "autoexec": {
      "startup": false,
      "wait_interval": 0
     }
    },
    "colab_type": "code",
    "collapsed": true,
    "id": "k7JQUIdAV2KD",
    "slideshow": {
     "slide_type": "slide"
    }
   },
   "source": [
    "## Regularization\n",
    "\n",
    "* Early Stopping\n",
    "\n",
    "* L1 Regularization\n",
    "\n",
    "* L2 Regularization\n",
    "\n",
    "* Dropout Regularization\n",
    "\n",
    "* Training Data Augmentation\n",
    "\n",
    "* Batch Normalization"
   ]
  },
  {
   "cell_type": "markdown",
   "metadata": {
    "slideshow": {
     "slide_type": "slide"
    }
   },
   "source": [
    "## Early Stopping\n",
    "\n",
    "![](images/early_stopping.png)"
   ]
  },
  {
   "cell_type": "markdown",
   "metadata": {
    "slideshow": {
     "slide_type": "slide"
    }
   },
   "source": [
    "## L2 Regularization\n",
    "\n",
    "L2 Regularization is a commonly used technique in ML systems is also sometimes referred to as “Weight Decay”. It works by adding a quadratic term to the Cross Entropy Loss Function $\\mathcal L$, called the Regularization Term, which results in a new Loss Function $\\mathcal L_R$ given by:\n",
    "\n",
    "\\begin{equation}\n",
    "\\mathcal L_R = {\\mathcal L} + \\frac{\\lambda}{2} \\sum_{r=1}^{R+1} \\sum_{j=1}^{P^{r-1}} \\sum_{i=1}^{P^r} (w_{ij}^{(r)})^2  \n",
    "\\end{equation}\n",
    "\n",
    "L2 Regularization also leads to more \"diffuse\" weight parameters, in other words, it encourages the network to use all its inputs a little rather than some of its inputs a lot. "
   ]
  },
  {
   "cell_type": "markdown",
   "metadata": {
    "slideshow": {
     "slide_type": "slide"
    }
   },
   "source": [
    "## L1 Regularization\n",
    "\n",
    "L1 Regularization uses a Regularization Function which is the sum of the absolute value of all the weights in DLN, resulting in the following loss function ($\\mathcal L$ is the usual Cross Entropy loss):\n",
    "\n",
    "\\begin{equation}\n",
    "\\mathcal L_R = \\mathcal L + {\\lambda} \\sum_{r=1}^{R+1} \\sum_{j=1}^{P^{r-1}} \\sum_{i=1}^{P^r} |w_{ij}^{(r)}|  (\\#eq:L1reg)\n",
    "\\end{equation}\n",
    "\n",
    "At a high level L1 Regularization is similar to L2 Regularization since it leads to smaller weights."
   ]
  },
  {
   "cell_type": "markdown",
   "metadata": {
    "slideshow": {
     "slide_type": "slide"
    }
   },
   "source": [
    "1. Both L1 and L2 Regularizations lead to a reduction in the weights with each iteration. However the way the weights drop is different: \n",
    "\n",
    "2. In L2 Regularization the weight reduction is multiplicative and proportional to the value of the weight, so it is faster for large weights and de-accelerates as the weights get smaller. \n",
    "\n",
    "3. In L1 Regularization on the other hand, the weights are reduced by a fixed amount in every iteration, irrespective of the value of the weight. Hence for larger weights L2 Regularization is faster than L1, while for smaller weights the reverse is true. \n",
    "\n",
    "4. As a result L1 Regularization leads to DLNs in which the weight of most of the connections tends towards zero, with a few connections with larger weights left over. This type of DLN that results after the application of L1 Regularization is said to be “sparse”."
   ]
  },
  {
   "cell_type": "markdown",
   "metadata": {
    "slideshow": {
     "slide_type": "slide"
    }
   },
   "source": [
    "## Dropout regularization\n",
    "\n",
    "![](images/dropout.png)\n"
   ]
  },
  {
   "cell_type": "markdown",
   "metadata": {
    "slideshow": {
     "slide_type": "slide"
    }
   },
   "source": [
    "The basic idea behind Dropout is to run each iteration of the Backprop algorithm on randomly modified versions of the original DLN. The random modifications are carried out to the topology of the DLN using the following rules: \n",
    "\n",
    "-\tAssign probability values $p^{(r)}, 0 \\leq r \\leq R$, which is defined as the probability that a node is present in the model, and use these to generate $\\{0,1\\}$-valued Bernoulli random variables $e_j^{(r)}$:\n",
    "\n",
    "$$\n",
    "e_j^{(r)} \\sim Bernoulli(p^{(r)}), \\quad 0 \\leq r \\leq R,\\ \\  1 \\leq j \\leq P^r\n",
    "$$\n",
    "\n",
    "-\tModify the input vector as follows:\n",
    "\n",
    "\\begin{equation}\n",
    "\\hat x_j = e_j^{(0)} x_j, \\quad 1 \\leq j \\leq N   \n",
    "\\end{equation}\n",
    "\n",
    "- Modify the activations $z_j^{(r)}$ of the hidden layer r as follows:\n",
    "\n",
    "\\begin{equation}\n",
    "\\hat z_j^{(r)} = e_j^{(r)} z_j^{(r)}, \\quad 1 \\leq r \\leq R,\\ \\  1 \\leq j \\leq P^r   \n",
    "\\end{equation}"
   ]
  },
  {
   "cell_type": "markdown",
   "metadata": {
    "slideshow": {
     "slide_type": "slide"
    }
   },
   "source": [
    "1. After the Backprop is complete, we have effectively trained a collection of up to $2^s$ thinned DLNs all of which share the same weights, where $s$ is the total number of hidden nodes in the DLN. \n",
    "\n",
    "2. In order to test the network, strictly speaking we should be averaging the results from all these thinned models, however a simple approximate averaging method works quite well. \n",
    "\n",
    "3. The main idea is to use the complete DLN as the test network."
   ]
  },
  {
   "cell_type": "markdown",
   "metadata": {
    "slideshow": {
     "slide_type": "slide"
    }
   },
   "source": [
    "## Bagging (Ensemble Learning)\n",
    "\n",
    "![](images/bagging.png)\n"
   ]
  },
  {
   "cell_type": "markdown",
   "metadata": {
    "colab_type": "text",
    "id": "wt-gcntLV2J-",
    "slideshow": {
     "slide_type": "slide"
    }
   },
   "source": [
    "![](images/TensorFlow_playground.png)\n",
    "\n",
    "http://playground.tensorflow.org/"
   ]
  },
  {
   "cell_type": "markdown",
   "metadata": {
    "colab_type": "text",
    "id": "9Dlk0NQqV2KG",
    "slideshow": {
     "slide_type": "slide"
    }
   },
   "source": [
    "## Pattern Recognition: Cancer"
   ]
  },
  {
   "cell_type": "code",
   "execution_count": 1,
   "metadata": {
    "colab": {
     "autoexec": {
      "startup": false,
      "wait_interval": 0
     }
    },
    "colab_type": "code",
    "id": "nUzwo8kXV2KH",
    "outputId": "ec109240-6b58-4dcd-ca9b-14e7e2000fdb",
    "slideshow": {
     "slide_type": "skip"
    }
   },
   "outputs": [
    {
     "name": "stdout",
     "output_type": "stream",
     "text": [
      "Populating the interactive namespace from numpy and matplotlib\n"
     ]
    }
   ],
   "source": [
    "%pylab inline\n",
    "import pandas as pd"
   ]
  },
  {
   "cell_type": "code",
   "execution_count": 2,
   "metadata": {
    "colab": {
     "autoexec": {
      "startup": false,
      "wait_interval": 0
     }
    },
    "colab_type": "code",
    "id": "SFDAmTIdV2KN",
    "outputId": "4eb081d5-1a07-4bb3-a476-e34ab4a9a2e5",
    "slideshow": {
     "slide_type": "slide"
    }
   },
   "outputs": [
    {
     "data": {
      "text/html": [
       "<div>\n",
       "<style scoped>\n",
       "    .dataframe tbody tr th:only-of-type {\n",
       "        vertical-align: middle;\n",
       "    }\n",
       "\n",
       "    .dataframe tbody tr th {\n",
       "        vertical-align: top;\n",
       "    }\n",
       "\n",
       "    .dataframe thead th {\n",
       "        text-align: right;\n",
       "    }\n",
       "</style>\n",
       "<table border=\"1\" class=\"dataframe\">\n",
       "  <thead>\n",
       "    <tr style=\"text-align: right;\">\n",
       "      <th></th>\n",
       "      <th>Id</th>\n",
       "      <th>Cl.thickness</th>\n",
       "      <th>Cell.size</th>\n",
       "      <th>Cell.shape</th>\n",
       "      <th>Marg.adhesion</th>\n",
       "      <th>Epith.c.size</th>\n",
       "      <th>Bare.nuclei</th>\n",
       "      <th>Bl.cromatin</th>\n",
       "      <th>Normal.nucleoli</th>\n",
       "      <th>Mitoses</th>\n",
       "      <th>Class</th>\n",
       "    </tr>\n",
       "  </thead>\n",
       "  <tbody>\n",
       "    <tr>\n",
       "      <th>0</th>\n",
       "      <td>1000025</td>\n",
       "      <td>5</td>\n",
       "      <td>1</td>\n",
       "      <td>1</td>\n",
       "      <td>1</td>\n",
       "      <td>2</td>\n",
       "      <td>1</td>\n",
       "      <td>3</td>\n",
       "      <td>1</td>\n",
       "      <td>1</td>\n",
       "      <td>benign</td>\n",
       "    </tr>\n",
       "    <tr>\n",
       "      <th>1</th>\n",
       "      <td>1002945</td>\n",
       "      <td>5</td>\n",
       "      <td>4</td>\n",
       "      <td>4</td>\n",
       "      <td>5</td>\n",
       "      <td>7</td>\n",
       "      <td>10</td>\n",
       "      <td>3</td>\n",
       "      <td>2</td>\n",
       "      <td>1</td>\n",
       "      <td>benign</td>\n",
       "    </tr>\n",
       "    <tr>\n",
       "      <th>2</th>\n",
       "      <td>1015425</td>\n",
       "      <td>3</td>\n",
       "      <td>1</td>\n",
       "      <td>1</td>\n",
       "      <td>1</td>\n",
       "      <td>2</td>\n",
       "      <td>2</td>\n",
       "      <td>3</td>\n",
       "      <td>1</td>\n",
       "      <td>1</td>\n",
       "      <td>benign</td>\n",
       "    </tr>\n",
       "    <tr>\n",
       "      <th>3</th>\n",
       "      <td>1016277</td>\n",
       "      <td>6</td>\n",
       "      <td>8</td>\n",
       "      <td>8</td>\n",
       "      <td>1</td>\n",
       "      <td>3</td>\n",
       "      <td>4</td>\n",
       "      <td>3</td>\n",
       "      <td>7</td>\n",
       "      <td>1</td>\n",
       "      <td>benign</td>\n",
       "    </tr>\n",
       "    <tr>\n",
       "      <th>4</th>\n",
       "      <td>1017023</td>\n",
       "      <td>4</td>\n",
       "      <td>1</td>\n",
       "      <td>1</td>\n",
       "      <td>3</td>\n",
       "      <td>2</td>\n",
       "      <td>1</td>\n",
       "      <td>3</td>\n",
       "      <td>1</td>\n",
       "      <td>1</td>\n",
       "      <td>benign</td>\n",
       "    </tr>\n",
       "  </tbody>\n",
       "</table>\n",
       "</div>"
      ],
      "text/plain": [
       "        Id  Cl.thickness  Cell.size  Cell.shape  Marg.adhesion  Epith.c.size  \\\n",
       "0  1000025             5          1           1              1             2   \n",
       "1  1002945             5          4           4              5             7   \n",
       "2  1015425             3          1           1              1             2   \n",
       "3  1016277             6          8           8              1             3   \n",
       "4  1017023             4          1           1              3             2   \n",
       "\n",
       "   Bare.nuclei  Bl.cromatin  Normal.nucleoli  Mitoses   Class  \n",
       "0            1            3                1        1  benign  \n",
       "1           10            3                2        1  benign  \n",
       "2            2            3                1        1  benign  \n",
       "3            4            3                7        1  benign  \n",
       "4            1            3                1        1  benign  "
      ]
     },
     "execution_count": 2,
     "metadata": {},
     "output_type": "execute_result"
    }
   ],
   "source": [
    "## Read in the data set\n",
    "data = pd.read_csv(\"data/BreastCancer.csv\")\n",
    "data.head()"
   ]
  },
  {
   "cell_type": "code",
   "execution_count": 3,
   "metadata": {
    "colab": {
     "autoexec": {
      "startup": false,
      "wait_interval": 0
     }
    },
    "colab_type": "code",
    "id": "0VC69V92V2KQ",
    "outputId": "01b961d2-f12a-49b8-92ed-0460b3abf5c3",
    "slideshow": {
     "slide_type": "skip"
    }
   },
   "outputs": [
    {
     "name": "stdout",
     "output_type": "stream",
     "text": [
      "   Cl.thickness  Cell.size  Cell.shape  Marg.adhesion  Epith.c.size  \\\n",
      "0             5          1           1              1             2   \n",
      "1             5          4           4              5             7   \n",
      "2             3          1           1              1             2   \n",
      "3             6          8           8              1             3   \n",
      "4             4          1           1              3             2   \n",
      "\n",
      "   Bare.nuclei  Bl.cromatin  Normal.nucleoli  Mitoses  \n",
      "0            1            3                1        1  \n",
      "1           10            3                2        1  \n",
      "2            2            3                1        1  \n",
      "3            4            3                7        1  \n",
      "4            1            3                1        1  \n",
      "0    benign\n",
      "1    benign\n",
      "2    benign\n",
      "3    benign\n",
      "4    benign\n",
      "Name: Class, dtype: object\n"
     ]
    }
   ],
   "source": [
    "x = data.loc[:,'Cl.thickness':'Mitoses']\n",
    "print(x.head())\n",
    "y = data.loc[:,'Class']\n",
    "print(y.head())"
   ]
  },
  {
   "cell_type": "code",
   "execution_count": 4,
   "metadata": {
    "colab": {
     "autoexec": {
      "startup": false,
      "wait_interval": 0
     }
    },
    "colab_type": "code",
    "id": "TmWrZ0IXV2KS",
    "outputId": "896ab9d5-7d33-4d6e-fa07-45261bdc251f",
    "slideshow": {
     "slide_type": "slide"
    }
   },
   "outputs": [
    {
     "data": {
      "text/plain": [
       "array([[0.],\n",
       "       [0.],\n",
       "       [0.],\n",
       "       [0.],\n",
       "       [0.],\n",
       "       [1.],\n",
       "       [0.],\n",
       "       [0.],\n",
       "       [0.],\n",
       "       [0.]])"
      ]
     },
     "execution_count": 4,
     "metadata": {},
     "output_type": "execute_result"
    }
   ],
   "source": [
    "## Convert the class variable into binary numeric\n",
    "ynum = zeros((len(x),1))\n",
    "for j in arange(len(y)):\n",
    "    if y[j]==\"malignant\":\n",
    "        ynum[j]=1\n",
    "ynum[:10]"
   ]
  },
  {
   "cell_type": "code",
   "execution_count": 5,
   "metadata": {
    "colab": {
     "autoexec": {
      "startup": false,
      "wait_interval": 0
     }
    },
    "colab_type": "code",
    "id": "JBii4baCV2KW",
    "outputId": "e7395100-4913-4c40-b6a1-b6e21946b5f8",
    "slideshow": {
     "slide_type": "slide"
    }
   },
   "outputs": [
    {
     "name": "stderr",
     "output_type": "stream",
     "text": [
      "/Users/srdas/anaconda3/lib/python3.6/site-packages/h5py/__init__.py:36: FutureWarning: Conversion of the second argument of issubdtype from `float` to `np.floating` is deprecated. In future, it will be treated as `np.float64 == np.dtype(float).type`.\n",
      "  from ._conv import register_converters as _register_converters\n",
      "Using TensorFlow backend.\n"
     ]
    },
    {
     "name": "stdout",
     "output_type": "stream",
     "text": [
      "[[1. 0.]\n",
      " [1. 0.]\n",
      " [1. 0.]\n",
      " [1. 0.]\n",
      " [1. 0.]\n",
      " [0. 1.]\n",
      " [1. 0.]\n",
      " [1. 0.]\n",
      " [1. 0.]\n",
      " [1. 0.]]\n",
      "(683, 9)\n",
      "(683, 2)\n",
      "(683, 1)\n"
     ]
    }
   ],
   "source": [
    "## Make label data have 1-shape, 1=malignant\n",
    "from keras import utils\n",
    "y.labels = utils.to_categorical(ynum, num_classes=2)\n",
    "#x = x.as_matrix()\n",
    "print(y.labels[:10])\n",
    "print(shape(x))\n",
    "print(shape(y.labels))\n",
    "print(shape(ynum))"
   ]
  },
  {
   "cell_type": "code",
   "execution_count": 6,
   "metadata": {
    "colab": {
     "autoexec": {
      "startup": false,
      "wait_interval": 0
     }
    },
    "colab_type": "code",
    "id": "uqrp-OBEV2Ka",
    "slideshow": {
     "slide_type": "slide"
    }
   },
   "outputs": [],
   "source": [
    "## Define the neural net and compile it\n",
    "from keras.models import Sequential\n",
    "from keras.layers import Dense, Activation\n",
    "\n",
    "model = Sequential()\n",
    "model.add(Dense(32, activation='relu', input_dim=9))\n",
    "model.add(Dense(32, activation='relu'))\n",
    "model.add(Dense(32, activation='relu'))\n",
    "model.add(Dense(1, activation='sigmoid'))\n",
    "model.compile(optimizer='rmsprop',\n",
    "              loss='binary_crossentropy',\n",
    "              metrics=['accuracy'])"
   ]
  },
  {
   "cell_type": "code",
   "execution_count": 7,
   "metadata": {
    "colab": {
     "autoexec": {
      "startup": false,
      "wait_interval": 0
     }
    },
    "colab_type": "code",
    "id": "wCBy6RkdV2Kc",
    "outputId": "b1d35cf1-4bba-40ba-ca55-c6cb3211870d",
    "slideshow": {
     "slide_type": "slide"
    }
   },
   "outputs": [
    {
     "name": "stdout",
     "output_type": "stream",
     "text": [
      "Epoch 1/25\n",
      " - 0s - loss: 0.6186 - acc: 0.5476\n",
      "Epoch 2/25\n",
      " - 0s - loss: 0.4578 - acc: 0.8946\n",
      "Epoch 3/25\n",
      " - 0s - loss: 0.3477 - acc: 0.9151\n",
      "Epoch 4/25\n",
      " - 0s - loss: 0.2756 - acc: 0.9458\n",
      "Epoch 5/25\n",
      " - 0s - loss: 0.2359 - acc: 0.9444\n",
      "Epoch 6/25\n",
      " - 0s - loss: 0.2116 - acc: 0.9414\n",
      "Epoch 7/25\n",
      " - 0s - loss: 0.1978 - acc: 0.9502\n",
      "Epoch 8/25\n",
      " - 0s - loss: 0.1680 - acc: 0.9561\n",
      "Epoch 9/25\n",
      " - 0s - loss: 0.1535 - acc: 0.9649\n",
      "Epoch 10/25\n",
      " - 0s - loss: 0.1389 - acc: 0.9649\n",
      "Epoch 11/25\n",
      " - 0s - loss: 0.1416 - acc: 0.9561\n",
      "Epoch 12/25\n",
      " - 0s - loss: 0.1184 - acc: 0.9649\n",
      "Epoch 13/25\n",
      " - 0s - loss: 0.1204 - acc: 0.9649\n",
      "Epoch 14/25\n",
      " - 0s - loss: 0.1076 - acc: 0.9678\n",
      "Epoch 15/25\n",
      " - 0s - loss: 0.0929 - acc: 0.9678\n",
      "Epoch 16/25\n",
      " - 0s - loss: 0.0966 - acc: 0.9707\n",
      "Epoch 17/25\n",
      " - 0s - loss: 0.0902 - acc: 0.9736\n",
      "Epoch 18/25\n",
      " - 0s - loss: 0.0809 - acc: 0.9722\n",
      "Epoch 19/25\n",
      " - 0s - loss: 0.0824 - acc: 0.9766\n",
      "Epoch 20/25\n",
      " - 0s - loss: 0.0741 - acc: 0.9766\n",
      "Epoch 21/25\n",
      " - 0s - loss: 0.0773 - acc: 0.9751\n",
      "Epoch 22/25\n",
      " - 0s - loss: 0.0657 - acc: 0.9839\n",
      "Epoch 23/25\n",
      " - 0s - loss: 0.0671 - acc: 0.9810\n",
      "Epoch 24/25\n",
      " - 0s - loss: 0.0647 - acc: 0.9780\n",
      "Epoch 25/25\n",
      " - 0s - loss: 0.0635 - acc: 0.9795\n"
     ]
    },
    {
     "data": {
      "text/plain": [
       "<keras.callbacks.History at 0x1134a5400>"
      ]
     },
     "execution_count": 7,
     "metadata": {},
     "output_type": "execute_result"
    }
   ],
   "source": [
    "## Fit/train the model (x,y need to be matrices)\n",
    "model.fit(x, ynum, epochs=25, batch_size=32,verbose=2)"
   ]
  },
  {
   "cell_type": "code",
   "execution_count": 8,
   "metadata": {
    "colab": {
     "autoexec": {
      "startup": false,
      "wait_interval": 0
     }
    },
    "colab_type": "code",
    "id": "QZDXxlqKV2Kg",
    "outputId": "c2f543bf-14c0-4db9-8f6e-af14242f1a49",
    "slideshow": {
     "slide_type": "slide"
    }
   },
   "outputs": [
    {
     "name": "stdout",
     "output_type": "stream",
     "text": [
      "Accuracy =  0.9853587115666179\n"
     ]
    },
    {
     "data": {
      "text/plain": [
       "array([[434,   0],\n",
       "       [ 10, 239]])"
      ]
     },
     "execution_count": 8,
     "metadata": {},
     "output_type": "execute_result"
    }
   ],
   "source": [
    "## Accuracy\n",
    "yhat = model.predict_classes(x, batch_size=32)\n",
    "acc = sum(yhat==ynum)\n",
    "print(\"Accuracy = \",acc/len(ynum))\n",
    "\n",
    "## Confusion matrix\n",
    "from sklearn.metrics import confusion_matrix\n",
    "confusion_matrix(yhat,ynum)"
   ]
  },
  {
   "cell_type": "markdown",
   "metadata": {
    "colab_type": "text",
    "id": "KhwGxmE0V2Ki",
    "slideshow": {
     "slide_type": "slide"
    }
   },
   "source": [
    "# Another Canonical Example:  Digit Recognition (MNIST)\n",
    "\n",
    "- Extensible to many finance prediction problems. \n",
    "- Information set: 784 (28 x 28) pixels for category prediction. \n",
    "- Would you run a multinomial regression on these 784 columns. \n",
    "\n",
    "![](MNIST.png)\n",
    "\n",
    "https://www.cs.toronto.edu/~kriz/cifar.html"
   ]
  },
  {
   "cell_type": "code",
   "execution_count": 9,
   "metadata": {
    "colab": {
     "autoexec": {
      "startup": false,
      "wait_interval": 0
     }
    },
    "colab_type": "code",
    "id": "95m5gNX1V2Ki",
    "outputId": "eaf1583d-9b30-41b8-98db-6fb937a177de",
    "slideshow": {
     "slide_type": "slide"
    }
   },
   "outputs": [
    {
     "name": "stdout",
     "output_type": "stream",
     "text": [
      "(60000, 785)\n",
      "(10000, 785)\n"
     ]
    }
   ],
   "source": [
    "## Read in the data set\n",
    "train = pd.read_csv(\"data/train.csv\", header=None)\n",
    "test = pd.read_csv(\"data/test.csv\", header=None)\n",
    "print(shape(train))\n",
    "print(shape(test))"
   ]
  },
  {
   "cell_type": "code",
   "execution_count": 10,
   "metadata": {
    "colab": {
     "autoexec": {
      "startup": false,
      "wait_interval": 0
     }
    },
    "colab_type": "code",
    "id": "uljZ25lAV2Km",
    "outputId": "25ddbe02-3031-42ac-a475-6e1168693d26",
    "slideshow": {
     "slide_type": "slide"
    }
   },
   "outputs": [
    {
     "name": "stdout",
     "output_type": "stream",
     "text": [
      "(60000, 784)\n",
      "(60000, 1)\n",
      "(10000, 784)\n",
      "(10000, 1)\n",
      "(60000, 10)\n",
      "[[0. 0. 0. 1. 0. 0. 0. 0. 0. 0.]\n",
      " [1. 0. 0. 0. 0. 0. 0. 0. 0. 0.]\n",
      " [1. 0. 0. 0. 0. 0. 0. 0. 0. 0.]\n",
      " [0. 0. 1. 0. 0. 0. 0. 0. 0. 0.]]\n",
      "[[3]\n",
      " [0]\n",
      " [0]\n",
      " [2]]\n"
     ]
    },
    {
     "name": "stderr",
     "output_type": "stream",
     "text": [
      "/Users/srdas/anaconda3/lib/python3.6/site-packages/ipykernel_launcher.py:2: FutureWarning: Method .as_matrix will be removed in a future version. Use .values instead.\n",
      "  \n",
      "/Users/srdas/anaconda3/lib/python3.6/site-packages/ipykernel_launcher.py:3: FutureWarning: Method .as_matrix will be removed in a future version. Use .values instead.\n",
      "  This is separate from the ipykernel package so we can avoid doing imports until\n",
      "/Users/srdas/anaconda3/lib/python3.6/site-packages/ipykernel_launcher.py:6: FutureWarning: Method .as_matrix will be removed in a future version. Use .values instead.\n",
      "  \n",
      "/Users/srdas/anaconda3/lib/python3.6/site-packages/ipykernel_launcher.py:7: FutureWarning: Method .as_matrix will be removed in a future version. Use .values instead.\n",
      "  import sys\n"
     ]
    }
   ],
   "source": [
    "## Reformat the data\n",
    "X_train = train.as_matrix()[:,0:784]\n",
    "Y_train = train.as_matrix()[:,784:785]\n",
    "print(shape(X_train))\n",
    "print(shape(Y_train))\n",
    "X_test = test.as_matrix()[:,0:784]\n",
    "Y_test = test.as_matrix()[:,784:785]\n",
    "print(shape(X_test))\n",
    "print(shape(Y_test))\n",
    "y.labels = utils.to_categorical(Y_train, num_classes=10)\n",
    "print(shape(y.labels))\n",
    "print(y.labels[1:5,:])\n",
    "print(Y_train[1:5])"
   ]
  },
  {
   "cell_type": "code",
   "execution_count": 11,
   "metadata": {
    "colab": {
     "autoexec": {
      "startup": false,
      "wait_interval": 0
     }
    },
    "colab_type": "code",
    "id": "ajYuIw4VV2Kp",
    "outputId": "2ca6f553-5453-4053-d04c-a618553d8c06",
    "slideshow": {
     "slide_type": "slide"
    }
   },
   "outputs": [
    {
     "data": {
      "image/png": "[encoded data removed]",
      "text/plain": [
       "<Figure size 432x288 with 1 Axes>"
      ]
     },
     "metadata": {},
     "output_type": "display_data"
    }
   ],
   "source": [
    "hist(Y_train); grid()"
   ]
  },
  {
   "cell_type": "code",
   "execution_count": 12,
   "metadata": {
    "colab": {
     "autoexec": {
      "startup": false,
      "wait_interval": 0
     }
    },
    "colab_type": "code",
    "id": "FLmodhhuV2Ks",
    "outputId": "dbb810a4-7667-4c0a-f555-0345c43e1b4b",
    "slideshow": {
     "slide_type": "slide"
    }
   },
   "outputs": [],
   "source": [
    "## Define the neural net and compile it\n",
    "from keras.models import Sequential\n",
    "from keras.layers import Dense, Activation, Dropout\n",
    "from keras.optimizers import SGD\n",
    "\n",
    "data_dim = shape(X_train)[1]\n",
    "\n",
    "model = Sequential([\n",
    "    Dense(100, input_shape=(784,)),\n",
    "    Activation('sigmoid'),\n",
    "    Dense(100),\n",
    "    Activation('sigmoid'),\n",
    "    Dense(100),\n",
    "    Activation('sigmoid'),\n",
    "    Dense(100),\n",
    "    Activation('sigmoid'),\n",
    "    Dense(10),\n",
    "    Activation('softmax'),\n",
    "])\n",
    "\n",
    "#model = Sequential()\n",
    "#model.add(Dense(100, activation='sigmoid', input_dim=data_dim))\n",
    "#model.add(Dropout(0.25))\n",
    "#model.add(Dense(100, activation='sigmoid'))\n",
    "#model.add(Dropout(0.25))\n",
    "#model.add(Dense(100, activation='sigmoid'))\n",
    "#model.add(Dropout(0.25))\n",
    "#model.add(Dense(100, activation='sigmoid'))\n",
    "#model.add(Dropout(0.25))\n",
    "#model.add(Dense(10, activation='softmax'))\n",
    "model.compile(optimizer='rmsprop',\n",
    "              loss='categorical_crossentropy',\n",
    "              metrics=['accuracy'])"
   ]
  },
  {
   "cell_type": "code",
   "execution_count": 13,
   "metadata": {
    "colab": {
     "autoexec": {
      "startup": false,
      "wait_interval": 0
     }
    },
    "colab_type": "code",
    "id": "hZyMJ25qV2Ku",
    "slideshow": {
     "slide_type": "slide"
    }
   },
   "outputs": [
    {
     "name": "stdout",
     "output_type": "stream",
     "text": [
      "Epoch 1/10\n",
      " - 7s - loss: 0.7339 - acc: 0.7693\n",
      "Epoch 2/10\n",
      " - 7s - loss: 0.3392 - acc: 0.9016\n",
      "Epoch 3/10\n",
      " - 8s - loss: 0.2837 - acc: 0.9159\n",
      "Epoch 4/10\n",
      " - 9s - loss: 0.2514 - acc: 0.9253\n",
      "Epoch 5/10\n",
      " - 10s - loss: 0.2290 - acc: 0.9307\n",
      "Epoch 6/10\n",
      " - 9s - loss: 0.2204 - acc: 0.9336\n",
      "Epoch 7/10\n",
      " - 10s - loss: 0.2124 - acc: 0.9357\n",
      "Epoch 8/10\n",
      " - 9s - loss: 0.2053 - acc: 0.9384\n",
      "Epoch 9/10\n",
      " - 9s - loss: 0.1949 - acc: 0.9414\n",
      "Epoch 10/10\n",
      " - 9s - loss: 0.1930 - acc: 0.9415\n"
     ]
    },
    {
     "data": {
      "text/plain": [
       "<keras.callbacks.History at 0x1151adcf8>"
      ]
     },
     "execution_count": 13,
     "metadata": {},
     "output_type": "execute_result"
    }
   ],
   "source": [
    "## Fit/train the model (x,y need to be matrices)\n",
    "model.fit(X_train, y.labels, epochs=10, batch_size=32,verbose=2)"
   ]
  },
  {
   "cell_type": "code",
   "execution_count": 14,
   "metadata": {
    "colab": {
     "autoexec": {
      "startup": false,
      "wait_interval": 0
     }
    },
    "colab_type": "code",
    "id": "2LKRob6aV2Kx",
    "slideshow": {
     "slide_type": "slide"
    }
   },
   "outputs": [
    {
     "name": "stdout",
     "output_type": "stream",
     "text": [
      " \n",
      "[[5804    0   64   27    9   67   57   13   30   21]\n",
      " [   4 6577   21   19   17    8    8   36   77   26]\n",
      " [  11   42 5593   97   24   11   13   58   39   11]\n",
      " [   9   18   37 5539    0   82    0   32   79   43]\n",
      " [  11    6   54    3 5520   12   34   23   19  140]\n",
      " [  18   30   12  234    9 5063   56   14   96   49]\n",
      " [  26    6   72   15   44   68 5722    1   34    1]\n",
      " [   0   12   33   44   10   12    0 5995    7   99]\n",
      " [  34   48   62  119   22   74   28   14 5389   53]\n",
      " [   6    3   10   34  187   24    0   79   81 5506]]\n",
      "Accuracy =  0.9451333333333334\n"
     ]
    }
   ],
   "source": [
    "## In Sample\n",
    "yhat = model.predict_classes(X_train, batch_size=32)\n",
    "\n",
    "## Confusion matrix\n",
    "from sklearn.metrics import confusion_matrix\n",
    "cm = confusion_matrix(yhat,Y_train)\n",
    "print(\" \")\n",
    "print(cm)\n",
    "\n",
    "##\n",
    "acc = sum(diag(cm))/len(Y_train)\n",
    "print(\"Accuracy = \",acc)\n"
   ]
  },
  {
   "cell_type": "code",
   "execution_count": 15,
   "metadata": {
    "colab": {
     "autoexec": {
      "startup": false,
      "wait_interval": 0
     }
    },
    "colab_type": "code",
    "id": "_pq--84CV2Ky",
    "slideshow": {
     "slide_type": "slide"
    }
   },
   "outputs": [
    {
     "name": "stdout",
     "output_type": "stream",
     "text": [
      " \n",
      "[[ 963    0   16    2    1   12   13    2    9    6]\n",
      " [   0 1114    2    0    3    3    1   14    8    5]\n",
      " [   1    5  959   15    5    2    5   14    4    0]\n",
      " [   1    2    9  922    0   15    0    9    9    8]\n",
      " [   0    0    8    0  929    2    4    2    6   27]\n",
      " [   3    3    2   37    1  830   14    1   16    8]\n",
      " [   7    4   15    2   13    8  914    0    9    0]\n",
      " [   1    0    6    9    2    0    0  962    3   11]\n",
      " [   4    7   13   21    2   16    7    3  897   14]\n",
      " [   0    0    2    2   26    4    0   21   13  930]]\n",
      "Accuracy =  0.942\n"
     ]
    }
   ],
   "source": [
    "## Out of Sample\n",
    "yhat = model.predict_classes(X_test, batch_size=32)\n",
    "\n",
    "## Confusion matrix\n",
    "from sklearn.metrics import confusion_matrix\n",
    "cm = confusion_matrix(yhat,Y_test)\n",
    "print(\" \")\n",
    "print(cm)\n",
    "\n",
    "##\n",
    "acc = sum(diag(cm))/len(Y_test)\n",
    "print(\"Accuracy = \",acc)\n"
   ]
  },
  {
   "cell_type": "markdown",
   "metadata": {
    "colab_type": "text",
    "id": "TQrufjbWV2K0",
    "slideshow": {
     "slide_type": "slide"
    }
   },
   "source": [
    "# Learning the Black-Scholes Equation\n",
    "\n",
    "See : Hutchinson, Lo, Poggio (1994)"
   ]
  },
  {
   "cell_type": "code",
   "execution_count": 16,
   "metadata": {
    "colab": {
     "autoexec": {
      "startup": false,
      "wait_interval": 0
     }
    },
    "colab_type": "code",
    "id": "V3ucg3csV2K1",
    "slideshow": {
     "slide_type": "fragment"
    }
   },
   "outputs": [],
   "source": [
    "from scipy.stats import norm\n",
    "def BSM(S,K,T,sig,rf,dv,cp):  #cp = {+1.0 (calls), -1.0 (puts)}\n",
    "    d1 = (math.log(S/K)+(rf-dv+0.5*sig**2)*T)/(sig*math.sqrt(T))\n",
    "    d2 = d1 - sig*math.sqrt(T)\n",
    "    return cp*S*math.exp(-dv*T)*norm.cdf(d1*cp) - cp*K*math.exp(-rf*T)*norm.cdf(d2*cp)\n",
    "\n",
    "df = pd.read_csv('/Users/srdas/GoogleDrive/Papers/DeepLearning/DLinFinance/BlackScholesNN/training.csv')"
   ]
  },
  {
   "cell_type": "markdown",
   "metadata": {
    "colab_type": "text",
    "id": "YGijAnC8V2K3",
    "slideshow": {
     "slide_type": "slide"
    }
   },
   "source": [
    "# Normalizing spot and call prices\n",
    "$C$ is homogeneous degree one, so\n",
    "$$ aC(S,K) = C(aS,aK) $$\n",
    "This means we can normalize spot and call prices and remove  a variable by dividing by $K$.\n",
    "$$ \\frac{C(S,K)}{K} = C(S/K,1) $$"
   ]
  },
  {
   "cell_type": "code",
   "execution_count": 17,
   "metadata": {
    "colab": {
     "autoexec": {
      "startup": false,
      "wait_interval": 0
     }
    },
    "colab_type": "code",
    "id": "Da1RXMHGV2K3",
    "slideshow": {
     "slide_type": "fragment"
    }
   },
   "outputs": [],
   "source": [
    "df['Stock Price'] = df['Stock Price']/df['Strike Price']\n",
    "df['Call Price']  = df['Call Price'] /df['Strike Price']"
   ]
  },
  {
   "cell_type": "markdown",
   "metadata": {
    "colab_type": "text",
    "id": "o5L7Gzz5V2K8",
    "slideshow": {
     "slide_type": "slide"
    }
   },
   "source": [
    "# Data, libraries, activation functions"
   ]
  },
  {
   "cell_type": "code",
   "execution_count": 18,
   "metadata": {
    "colab": {
     "autoexec": {
      "startup": false,
      "wait_interval": 0
     }
    },
    "colab_type": "code",
    "id": "k4ZLR7r9V2K8",
    "slideshow": {
     "slide_type": "fragment"
    }
   },
   "outputs": [],
   "source": [
    "n = 300000\n",
    "n_train =  (int)(0.8 * n)\n",
    "train = df[0:n_train]\n",
    "X_train = train[['Stock Price', 'Maturity', 'Dividends', 'Volatility', 'Risk-free']].values\n",
    "y_train = train['Call Price'].values\n",
    "test = df[n_train+1:n]\n",
    "X_test = test[['Stock Price', 'Maturity', 'Dividends', 'Volatility', 'Risk-free']].values\n",
    "y_test = test['Call Price'].values"
   ]
  },
  {
   "cell_type": "code",
   "execution_count": 19,
   "metadata": {
    "colab": {
     "autoexec": {
      "startup": false,
      "wait_interval": 0
     }
    },
    "colab_type": "code",
    "id": "wM-vpsjUV2K_",
    "slideshow": {
     "slide_type": "fragment"
    }
   },
   "outputs": [],
   "source": [
    "#Import libraries\n",
    "from keras.models import Sequential\n",
    "from keras.layers import Dense, Dropout, Activation, LeakyReLU\n",
    "from keras import backend\n",
    "\n",
    "def custom_activation(x):\n",
    "    return backend.exp(x)"
   ]
  },
  {
   "cell_type": "markdown",
   "metadata": {
    "colab_type": "text",
    "id": "u7XJuLGPV2LB",
    "slideshow": {
     "slide_type": "slide"
    }
   },
   "source": [
    "# Set up, compile and fit the model"
   ]
  },
  {
   "cell_type": "code",
   "execution_count": 20,
   "metadata": {
    "colab": {
     "autoexec": {
      "startup": false,
      "wait_interval": 0
     }
    },
    "colab_type": "code",
    "id": "mZmzJ9taV2LC",
    "outputId": "30925310-9d87-4166-90a4-9bb0d04c5144",
    "slideshow": {
     "slide_type": "fragment"
    }
   },
   "outputs": [
    {
     "name": "stdout",
     "output_type": "stream",
     "text": [
      "Train on 216000 samples, validate on 24000 samples\n",
      "Epoch 1/10\n",
      " - 13s - loss: 0.0061 - val_loss: 6.8796e-04\n",
      "Epoch 2/10\n",
      " - 11s - loss: 0.0015 - val_loss: 2.9255e-04\n",
      "Epoch 3/10\n",
      " - 12s - loss: 0.0011 - val_loss: 8.2461e-04\n",
      "Epoch 4/10\n",
      " - 11s - loss: 9.2878e-04 - val_loss: 4.5576e-04\n",
      "Epoch 5/10\n",
      " - 12s - loss: 8.1162e-04 - val_loss: 4.2201e-04\n",
      "Epoch 6/10\n",
      " - 11s - loss: 7.3420e-04 - val_loss: 7.7427e-05\n",
      "Epoch 7/10\n",
      " - 12s - loss: 6.8677e-04 - val_loss: 2.7576e-04\n",
      "Epoch 8/10\n",
      " - 12s - loss: 6.5881e-04 - val_loss: 4.0098e-04\n",
      "Epoch 9/10\n",
      " - 12s - loss: 6.3421e-04 - val_loss: 1.6051e-04\n",
      "Epoch 10/10\n",
      " - 14s - loss: 6.1618e-04 - val_loss: 1.9364e-04\n"
     ]
    },
    {
     "data": {
      "text/plain": [
       "<keras.callbacks.History at 0x11471dcc0>"
      ]
     },
     "execution_count": 20,
     "metadata": {},
     "output_type": "execute_result"
    }
   ],
   "source": [
    "nodes = 120\n",
    "model = Sequential()\n",
    "\n",
    "model.add(Dense(nodes, input_dim=X_train.shape[1]))\n",
    "#model.add(\"relu\")\n",
    "model.add(Dropout(0.25))\n",
    "\n",
    "model.add(Dense(nodes, activation='elu'))\n",
    "model.add(Dropout(0.25))\n",
    "\n",
    "model.add(Dense(nodes, activation='relu'))\n",
    "model.add(Dropout(0.25))\n",
    "\n",
    "model.add(Dense(nodes, activation='elu'))\n",
    "model.add(Dropout(0.25))\n",
    "\n",
    "model.add(Dense(1))\n",
    "model.add(Activation(custom_activation))\n",
    "          \n",
    "model.compile(loss='mse',optimizer='rmsprop')\n",
    "\n",
    "model.fit(X_train, y_train, batch_size=64, epochs=10, validation_split=0.1, verbose=2)"
   ]
  },
  {
   "cell_type": "code",
   "execution_count": 21,
   "metadata": {
    "colab": {
     "autoexec": {
      "startup": false,
      "wait_interval": 0
     }
    },
    "colab_type": "code",
    "id": "FMBxPQIRV2LE",
    "slideshow": {
     "slide_type": "skip"
    }
   },
   "outputs": [],
   "source": [
    "def CheckAccuracy(y,y_hat):\n",
    "    stats = dict()\n",
    "    \n",
    "    stats['diff'] = y - y_hat\n",
    "    \n",
    "    stats['mse'] = mean(stats['diff']**2)\n",
    "    print(\"Mean Squared Error:      \", stats['mse'])\n",
    "    \n",
    "    stats['rmse'] = sqrt(stats['mse'])\n",
    "    print(\"Root Mean Squared Error: \", stats['rmse'])\n",
    "    \n",
    "    stats['mae'] = mean(abs(stats['diff']))\n",
    "    print(\"Mean Absolute Error:     \", stats['mae'])\n",
    "    \n",
    "    stats['mpe'] = sqrt(stats['mse'])/mean(y)\n",
    "    print(\"Mean Percent Error:      \", stats['mpe'])\n",
    "    \n",
    "    #plots\n",
    "    mpl.rcParams['agg.path.chunksize'] = 100000\n",
    "    figure(figsize=(14,10))\n",
    "    plt.scatter(y, y_hat,color='black',linewidth=0.3,alpha=0.4, s=0.5)\n",
    "    plt.xlabel('Actual Price',fontsize=20,fontname='Times New Roman')\n",
    "    plt.ylabel('Predicted Price',fontsize=20,fontname='Times New Roman') \n",
    "    plt.show()\n",
    "    \n",
    "    figure(figsize=(14,10))\n",
    "    plt.hist(stats['diff'], bins=50,edgecolor='black',color='white')\n",
    "    plt.xlabel('Diff')\n",
    "    plt.ylabel('Density')\n",
    "    plt.show()\n",
    "    \n",
    "    return stats"
   ]
  },
  {
   "cell_type": "markdown",
   "metadata": {
    "colab_type": "text",
    "id": "lR7QWR_TV2LH",
    "slideshow": {
     "slide_type": "slide"
    }
   },
   "source": [
    "# Predict and check accuracy (in-sample)"
   ]
  },
  {
   "cell_type": "code",
   "execution_count": 22,
   "metadata": {
    "colab": {
     "autoexec": {
      "startup": false,
      "wait_interval": 0
     }
    },
    "colab_type": "code",
    "id": "uWTBULkOV2LH",
    "outputId": "879863f7-cc9d-4cd6-9d35-ad47a6576f62",
    "slideshow": {
     "slide_type": "fragment"
    }
   },
   "outputs": [
    {
     "name": "stdout",
     "output_type": "stream",
     "text": [
      "Mean Squared Error:       0.00019331166020661818\n",
      "Root Mean Squared Error:  0.013903656361066257\n",
      "Mean Absolute Error:      0.01131060501646567\n",
      "Mean Percent Error:       0.0519749087373072\n"
     ]
    },
    {
     "data": {
      "image/png": "[encoded data removed]",
      "text/plain": [
       "<Figure size 1008x720 with 1 Axes>"
      ]
     },
     "metadata": {},
     "output_type": "display_data"
    },
    {
     "data": {
      "image/png": "[encoded data removed]",
      "text/plain": [
       "<Figure size 1008x720 with 1 Axes>"
      ]
     },
     "metadata": {},
     "output_type": "display_data"
    },
    {
     "data": {
      "text/plain": [
       "{'diff': array([0.00933984, 0.01065514, 0.01606907, ..., 0.00951744, 0.01472562,\n",
       "        0.01627947]),\n",
       " 'mse': 0.00019331166020661818,\n",
       " 'rmse': 0.013903656361066257,\n",
       " 'mae': 0.01131060501646567,\n",
       " 'mpe': 0.0519749087373072}"
      ]
     },
     "execution_count": 22,
     "metadata": {},
     "output_type": "execute_result"
    }
   ],
   "source": [
    "y_train_hat = model.predict(X_train)\n",
    "#reduce dim (240000,1) -> (240000,) to match y_train's dim\n",
    "y_train_hat = squeeze(y_train_hat)\n",
    "CheckAccuracy(y_train, y_train_hat)"
   ]
  },
  {
   "cell_type": "markdown",
   "metadata": {
    "colab_type": "text",
    "id": "zThbPKpvV2LK",
    "slideshow": {
     "slide_type": "slide"
    }
   },
   "source": [
    "# Predict and check accuracy (validation-sample)"
   ]
  },
  {
   "cell_type": "code",
   "execution_count": 23,
   "metadata": {
    "colab": {
     "autoexec": {
      "startup": false,
      "wait_interval": 0
     }
    },
    "colab_type": "code",
    "id": "tJuV4_AVV2LM",
    "outputId": "246e64f9-3331-4951-b331-bb2cd5ec1e8e",
    "slideshow": {
     "slide_type": "fragment"
    }
   },
   "outputs": [
    {
     "name": "stdout",
     "output_type": "stream",
     "text": [
      "Mean Squared Error:       0.0001924910075256892\n",
      "Root Mean Squared Error:  0.013874112855447342\n",
      "Mean Absolute Error:      0.011297652288298902\n",
      "Mean Percent Error:       0.05193892352955392\n"
     ]
    },
    {
     "data": {
      "image/png": "[encoded data removed]",
      "text/plain": [
       "<Figure size 1008x720 with 1 Axes>"
      ]
     },
     "metadata": {},
     "output_type": "display_data"
    },
    {
     "data": {
      "image/png": "[encoded data removed]",
      "text/plain": [
       "<Figure size 1008x720 with 1 Axes>"
      ]
     },
     "metadata": {},
     "output_type": "display_data"
    }
   ],
   "source": [
    "y_test_hat = model.predict(X_test)\n",
    "y_test_hat = squeeze(y_test_hat)\n",
    "test_stats = CheckAccuracy(y_test, y_test_hat)"
   ]
  },
  {
   "cell_type": "markdown",
   "metadata": {
    "colab_type": "text",
    "id": "z68KZq3NV2LP",
    "slideshow": {
     "slide_type": "slide"
    }
   },
   "source": [
    "# Random Forest of decision trees\n",
    "\n",
    "A Random Forest uses several decision trees to make hypotheses about regions within subsamples of the data, then makes predictions based on the majority vote of these trees. This safeguards against overfitting/memorization of the training data.\n"
   ]
  },
  {
   "cell_type": "markdown",
   "metadata": {
    "colab_type": "text",
    "id": "6Wi330jKV2LP",
    "slideshow": {
     "slide_type": "slide"
    }
   },
   "source": [
    "# Prepare Data"
   ]
  },
  {
   "cell_type": "code",
   "execution_count": 24,
   "metadata": {
    "colab": {
     "autoexec": {
      "startup": false,
      "wait_interval": 0
     }
    },
    "colab_type": "code",
    "id": "XDKL3SI5V2LP",
    "slideshow": {
     "slide_type": "fragment"
    }
   },
   "outputs": [],
   "source": [
    "n = 300000\n",
    "n_train =  (int)(0.8 * n)\n",
    "train = df[0:n_train]\n",
    "X_train = train[['Stock Price', 'Maturity', 'Dividends', 'Volatility', 'Risk-free']].values\n",
    "y_train = train['Call Price'].values\n",
    "test = df[n_train+1:n]\n",
    "X_test = test[['Stock Price', 'Maturity', 'Dividends', 'Volatility', 'Risk-free']].values\n",
    "y_test = test['Call Price'].values"
   ]
  },
  {
   "cell_type": "code",
   "execution_count": 25,
   "metadata": {
    "colab": {
     "autoexec": {
      "startup": false,
      "wait_interval": 0
     }
    },
    "colab_type": "code",
    "id": "UC3v2UyQV2LS",
    "slideshow": {
     "slide_type": "skip"
    }
   },
   "outputs": [],
   "source": [
    "def CheckAccuracy(y,y_hat):\n",
    "    stats = dict()\n",
    "    \n",
    "    stats['diff'] = y - y_hat\n",
    "    \n",
    "    stats['mse'] = mean(stats['diff']**2)\n",
    "    print(\"Mean Squared Error:      \", stats['mse'])\n",
    "    \n",
    "    stats['rmse'] = sqrt(stats['mse'])\n",
    "    print(\"Root Mean Squared Error: \", stats['rmse'])\n",
    "    \n",
    "    stats['mae'] = mean(abs(stats['diff']))\n",
    "    print(\"Mean Absolute Error:     \", stats['mae'])\n",
    "    \n",
    "    stats['mpe'] = sqrt(stats['mse'])/mean(y)\n",
    "    print(\"Mean Percent Error:      \", stats['mpe'])\n",
    "    \n",
    "    #plots\n",
    "    mpl.rcParams['agg.path.chunksize'] = 100000\n",
    "    #figure(figsize=(14,10))\n",
    "    plt.scatter(y, y_hat,color='black',linewidth=0.3,alpha=0.4, s=0.5)\n",
    "    plt.xlabel('Actual Price',fontsize=20,fontname='Times New Roman')\n",
    "    plt.ylabel('Predicted Price',fontsize=20,fontname='Times New Roman') \n",
    "    plt.show()\n",
    "    \n",
    "    #figure(figsize=(14,10))\n",
    "    plt.hist(stats['diff'], bins=50,edgecolor='black',color='white')\n",
    "    plt.xlabel('Diff')\n",
    "    plt.ylabel('Density')\n",
    "    plt.show()\n",
    "    \n",
    "    return stats"
   ]
  },
  {
   "cell_type": "markdown",
   "metadata": {
    "colab_type": "text",
    "id": "gBcFStK6V2LW",
    "slideshow": {
     "slide_type": "slide"
    }
   },
   "source": [
    "# Fit Random Forest"
   ]
  },
  {
   "cell_type": "code",
   "execution_count": 26,
   "metadata": {
    "colab": {
     "autoexec": {
      "startup": false,
      "wait_interval": 0
     }
    },
    "colab_type": "code",
    "id": "4qi2ioHQV2LX",
    "slideshow": {
     "slide_type": "fragment"
    }
   },
   "outputs": [],
   "source": [
    "from sklearn.ensemble import RandomForestRegressor\n",
    "\n",
    "forest = RandomForestRegressor()\n",
    "forest = forest.fit(X_train, y_train)\n",
    "y_test_hat = forest.predict(X_test)"
   ]
  },
  {
   "cell_type": "code",
   "execution_count": 27,
   "metadata": {
    "colab": {
     "autoexec": {
      "startup": false,
      "wait_interval": 0
     }
    },
    "colab_type": "code",
    "id": "EMiQ6y-aV2La",
    "outputId": "263a760b-b9ec-43dd-8089-9541e14ad05f",
    "slideshow": {
     "slide_type": "fragment"
    }
   },
   "outputs": [
    {
     "name": "stdout",
     "output_type": "stream",
     "text": [
      "Mean Squared Error:       5.113459072207158e-05\n",
      "Root Mean Squared Error:  0.007150845455054359\n",
      "Mean Absolute Error:      0.005232728067483401\n",
      "Mean Percent Error:       0.02676979920311822\n"
     ]
    },
    {
     "data": {
      "image/png": "[encoded data removed]",
      "text/plain": [
       "<Figure size 432x288 with 1 Axes>"
      ]
     },
     "metadata": {},
     "output_type": "display_data"
    },
    {
     "data": {
      "image/png": "[encoded data removed]",
      "text/plain": [
       "<Figure size 432x288 with 1 Axes>"
      ]
     },
     "metadata": {},
     "output_type": "display_data"
    }
   ],
   "source": [
    "stats = CheckAccuracy(y_test, y_test_hat)"
   ]
  }
 ],
 "metadata": {
  "celltoolbar": "Slideshow",
  "colab": {
   "collapsed_sections": [
    "9Dlk0NQqV2KG",
    "KhwGxmE0V2Ki",
    "TQrufjbWV2K0",
    "YGijAnC8V2K3",
    "o5L7Gzz5V2K8",
    "u7XJuLGPV2LB",
    "lR7QWR_TV2LH",
    "zThbPKpvV2LK",
    "z68KZq3NV2LP",
    "6Wi330jKV2LP",
    "gBcFStK6V2LW",
    "UaYob28DV2Lb",
    "GxG3tYVdV2Lc",
    "uFEzDV2RV2Lf",
    "QzXWmuh_V2Lf",
    "S8IZobRNV2Ll",
    "Cj1GHAl3V2Lp",
    "EKzkQhaYV2Lw"
   ],
   "default_view": {},
   "name": "DeepLearning_Introduction.ipynb",
   "provenance": [],
   "version": "0.3.2",
   "views": {}
  },
  "kernelspec": {
   "display_name": "Python 3",
   "language": "python",
   "name": "python3"
  },
  "language_info": {
   "codemirror_mode": {
    "name": "ipython",
    "version": 3
   },
   "file_extension": ".py",
   "mimetype": "text/x-python",
   "name": "python",
   "nbconvert_exporter": "python",
   "pygments_lexer": "ipython3",
   "version": "3.6.5"
  }
 },
 "nbformat": 4,
 "nbformat_minor": 1
}
